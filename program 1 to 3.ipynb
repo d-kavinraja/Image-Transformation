{
 "cells": [
  {
   "cell_type": "code",
   "execution_count": null,
   "metadata": {},
   "outputs": [],
   "source": [
    "## Developed By: Kavinraja D\n",
    "## Register Number: 212222240047\n",
    "## i)Image Translation\n",
    "import numpy as np\n",
    "import cv2\n",
    "import matplotlib.pyplot as plt\n",
    "input_img=cv2.imread(\"got.jpg\")\n",
    "input_img=cv2.cvtColor(input_img,cv2.COLOR_BGR2RGB)\n",
    "plt.axis('off')\n",
    "plt.imshow(input_img)\n",
    "plt.show()\n",
    "rows,cols,dim=input_img.shape\n",
    "M=np.float32([[1,0,20],\n",
    "             [0,1,50],\n",
    "             [0,0,1]])\n",
    "translated_img=cv2.warpPerspective(input_img,M,(cols,rows))\n",
    "plt.axis('off')\n",
    "plt.imshow(translated_img)\n",
    "plt.show()\n"
   ]
  },
  {
   "cell_type": "code",
   "execution_count": null,
   "metadata": {},
   "outputs": [],
   "source": [
    "## ii) Image Scaling\n",
    "M=np.float32([[1.5,0,0],\n",
    "             [0,2,0],\n",
    "             [0,0,1]])\n",
    "scaled_img=cv2.warpPerspective(input_img,M,(cols,rows))\n",
    "plt.axis('off')\n",
    "plt.imshow(scaled_img)\n",
    "plt.show()"
   ]
  },
  {
   "cell_type": "code",
   "execution_count": null,
   "metadata": {},
   "outputs": [],
   "source": [
    "## iii)Image shearing\n",
    "M_x=np.float32([[1,0.2,0],\n",
    "               [0,1,0],\n",
    "               [0,0,1]])\n",
    "M_y=np.float32([[1,0,0],\n",
    "               [0.4,1,0],\n",
    "               [0,0,1]])\n",
    "sheared_img_xaxis=cv2.warpPerspective(input_img,M_x,(cols,rows))\n",
    "sheared_img_yaxis=cv2.warpPerspective(input_img,M_y,(cols,rows))\n",
    "plt.axis('off')\n",
    "plt.imshow(sheared_img_xaxis)\n",
    "plt.show()\n",
    "plt.axis('off')\n",
    "plt.imshow(sheared_img_yaxis)\n",
    "plt.show()"
   ]
  }
 ],
 "metadata": {
  "kernelspec": {
   "display_name": "Python 3",
   "language": "python",
   "name": "python3"
  },
  "language_info": {
   "codemirror_mode": {
    "name": "ipython",
    "version": 3
   },
   "file_extension": ".py",
   "mimetype": "text/x-python",
   "name": "python",
   "nbconvert_exporter": "python",
   "pygments_lexer": "ipython3",
   "version": "3.11.0"
  },
  "orig_nbformat": 4
 },
 "nbformat": 4,
 "nbformat_minor": 2
}
