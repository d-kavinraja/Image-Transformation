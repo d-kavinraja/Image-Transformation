{
 "cells": [
  {
   "cell_type": "code",
   "execution_count": null,
   "metadata": {},
   "outputs": [],
   "source": [
    "##iv)Image Reflection\n",
    "import numpy as np\n",
    "import cv2\n",
    "import matplotlib.pyplot as plt\n",
    "input_image=cv2.imread(\"got.jpg\") \n",
    "input_image=cv2.cvtColor(input_image, cv2.COLOR_BGR2RGB) \n",
    "plt.axis(\"off\") \n",
    "plt.imshow(input_image)\n",
    "plt.show()\n",
    "rows, cols, dim = input_image.shape\n",
    "M_x=np.float32([[1,0,0],\n",
    "               [0,-1,rows],\n",
    "               [0,0,1]])\n",
    "M_y=np.float32([[-1,0,cols],\n",
    "               [0,1,0],\n",
    "               [0,0,1]])\n",
    "reflected_img_xaxis=cv2.warpPerspective(input_image,M_x,(cols,rows))\n",
    "reflected_img_yaxis=cv2.warpPerspective(input_image,M_y,(cols,rows))\n",
    "plt.imshow(reflected_img_yaxis)\n",
    "plt.show()"
   ]
  },
  {
   "cell_type": "code",
   "execution_count": null,
   "metadata": {},
   "outputs": [],
   "source": [
    "##v)Image Rotation:\n",
    "import numpy as np\n",
    "import cv2\n",
    "import matplotlib.pyplot as plt\n",
    "input_image=cv2.imread(\"got.jpg\") \n",
    "input_image=cv2.cvtColor(input_image, cv2.COLOR_BGR2RGB)\n",
    "angle=np.radians(45)\n",
    "M=np.float32([[np.cos(angle),-(np.sin(angle)),0],\n",
    "               [np.sin(angle),np.cos(angle),0],\n",
    "               [0,0,1]])\n",
    "rotated_img=cv2.warpPerspective(input_image,M,(cols,rows))\n",
    "plt.axis('off')\n",
    "plt.imshow(rotated_img)\n",
    "plt.show()\n"
   ]
  },
  {
   "cell_type": "code",
   "execution_count": null,
   "metadata": {},
   "outputs": [],
   "source": [
    "##vi)Image Cropping:\n",
    "\n",
    "import numpy as np\n",
    "import cv2\n",
    "import matplotlib.pyplot as plt\n",
    "input_image=cv2.imread(\"got.jpg\") \n",
    "input_image=cv2.cvtColor(input_image, cv2.COLOR_BGR2RGB)\n",
    "cropped_img=input_image[20:150,60:230]\n",
    "plt.axis('off')\n",
    "plt.imshow(cropped_img)\n",
    "plt.show()"
   ]
  }
 ],
 "metadata": {
  "kernelspec": {
   "display_name": "Python 3",
   "language": "python",
   "name": "python3"
  },
  "language_info": {
   "codemirror_mode": {
    "name": "ipython",
    "version": 3
   },
   "file_extension": ".py",
   "mimetype": "text/x-python",
   "name": "python",
   "nbconvert_exporter": "python",
   "pygments_lexer": "ipython3",
   "version": "3.11.0"
  },
  "orig_nbformat": 4
 },
 "nbformat": 4,
 "nbformat_minor": 2
}
